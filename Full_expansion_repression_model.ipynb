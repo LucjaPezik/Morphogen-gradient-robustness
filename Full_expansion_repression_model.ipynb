{
 "cells": [
  {
   "cell_type": "markdown",
   "metadata": {
    "id": "Xq6K5b9e8OMA"
   },
   "source": [
    "# Full expansion-repression circuit \n",
    "\n",
    "This notebook implements a full expansion-repression circuit while varying the diffusion coefficient of the morphogen, the degradation rate for the morphogen, initial morphogen concentration at x = 0 and the initial tissue size."
   ]
  },
  {
   "cell_type": "code",
   "execution_count": 2,
   "metadata": {
    "id": "wCc2VG7MGBzl"
   },
   "outputs": [
    {
     "name": "stdout",
     "output_type": "stream",
     "text": [
      "Notebook initialised\n"
     ]
    }
   ],
   "source": [
    "# Import Python libraries\n",
    "import numpy as np # numpy is a scientific library\n",
    "import matplotlib.pyplot as plt # matplotlib is a plotting library\n"
   ]
  },
  {
   "cell_type": "code",
   "execution_count": 3,
   "metadata": {
    "id": "HNYp8erbSSpw"
   },
   "outputs": [],
   "source": [
    "# Set global plotting parameters\n",
    "plt.rcParams['figure.figsize'] = [10, 6]   # Controls default figure size (in inches)\n",
    "SMALL_SIZE = 20\n",
    "MEDIUM_SIZE = 22\n",
    "BIGGER_SIZE = 24\n",
    "plt.rc('font', size = SMALL_SIZE)          # Controls default text sizes\n",
    "plt.rc('axes', titlesize = SMALL_SIZE)     # Fontsize of the axes title\n",
    "plt.rc('axes', labelsize = MEDIUM_SIZE)    # Fontsize of the x and y labels\n",
    "plt.rc('xtick', labelsize = SMALL_SIZE)    # Fontsize of the tick labels\n",
    "plt.rc('ytick', labelsize = SMALL_SIZE)    # Fontsize of the tick labels\n",
    "plt.rc('legend', fontsize = SMALL_SIZE)    # Legend fontsize\n",
    "plt.rc('figure', titlesize = BIGGER_SIZE)  # Fontsize of the figure title"
   ]
  },
  {
   "cell_type": "code",
   "execution_count": 4,
   "metadata": {
    "id": "c8kD_V4ZLZFL"
   },
   "outputs": [],
   "source": [
    "# Define function to plot results\n",
    "def plot(fig, ax, x, y, L, xLabel = None, yLabel = None, colour='black', figwidth = 10, figlength = 6, linewidth = 4, linestyle='-', linelabel = None):\n",
    "    fig.set_size_inches(figwidth, figlength, forward = True)\n",
    "    ax.plot(x, y, linewidth = linewidth, color = colour, linestyle = linestyle,label=linelabel)\n",
    "    ax.set_xlabel(xLabel)\n",
    "    ax.set_ylabel(yLabel)\n",
    "    ax.set_xlim([0, L])\n",
    "    ax.set_ylim([0,None])\n",
    "    if linelabel != None:\n",
    "        ax.legend()\n",
    "    return fig, ax"
   ]
  },
  {
   "cell_type": "code",
   "execution_count": 5,
   "metadata": {
    "id": "uoTibDgbGBzn"
   },
   "outputs": [],
   "source": [
    "# Define system parameters\n",
    "d = 10            # Diffusion coefficient\n",
    "k = 10**(-1)           # Degradation rate\n",
    "c0 = 10          # Pinned concentration at x = 0\n",
    "L = 100            # Tissue size\n",
    "\n",
    "# Define simulation parameters\n",
    "Nx = 201           # Number of spatial (x) gridpoints\n",
    "tMax = 10000000      # Maximum time\n",
    "thresholdSS = 1e-8 # Maximum fractional change in concentration per unit time below which the code exits as it has reached steady state"
   ]
  },
  {
   "cell_type": "markdown",
   "metadata": {},
   "source": [
    "Next we solve the expansion-repression circuit using a simplified model where $\\beta$=0, meaning the morphogen cocnentration doesn't repress the expander production. The equations of motion for the morphogen and expander are described by $[M[x,t+h] = D_Md(M[x+h,t]-2M[x,t] + M[x-h,t]) + (1-\\alpha)kM[x,t]$ and $[ E[x,t+h] = D_Ed(E[x+h,t]-2E[x,t] + E[x-h,t]) + (1-\\alpha)kE[x,t] + \\beta_E h(M)$, respectively. Where $\\alpha(E)=\\frac{\\alpha_M}{1+E}$, $D_M(E)=D_M$ and $h(M)=\\frac{T_{rep}}{T_{rep}+M}^n$. $T_{rep}$ is a threshold concentration and $n$ is a hill coefficient."
   ]
  },
  {
   "cell_type": "code",
   "execution_count": 6,
   "metadata": {},
   "outputs": [],
   "source": [
    "def expander_production_rate(morphogen_concentration):\n",
    "    \"\"\"Implemenets the morphogen-expander circuit by interconnecting \n",
    "    the parameters governing their independent equations.\n",
    "    Inputs:\n",
    "    morphogen_concentration - the amound of morphogen at a time step \n",
    "    Ouputs:\n",
    "    rate - the repression rate of the expander by the morphogen\n",
    "    \"\"\"\n",
    "    B = 10**(-2)\n",
    "    T = 10**(-3)\n",
    "    h = 2\n",
    "    rate = B*(T/(T+morphogen_concentration))**h\n",
    "    return rate"
   ]
  },
  {
   "cell_type": "code",
   "execution_count": 7,
   "metadata": {},
   "outputs": [],
   "source": [
    "def Solve_E(d, k, c0, L, Nx, tMax, thresholdSS):\n",
    "    \"\"\" Solves the expansion-repression circuit.\n",
    "    Inputs:\n",
    "    d - Diffusion coefficient for the morphogen \n",
    "    k - Degradation rate for the morphogen \n",
    "    C0 - Pinned concentration at x = 0\n",
    "    L - Tissue size\n",
    "    Nx- Number of spatial (x) gridpoints\n",
    "    tMax - Maximum time\n",
    "    thresholdSS - Maximum fractional change in concentration per unit time below which the code exits as it has reached steady state (SS)\n",
    "    const - concentration of the expander \n",
    "    Outputs:\n",
    "    concCurr - concentration of the morphogen at the maximum time or at steady state \n",
    "    concCurr_E - concentration of the expander at the maximum time or at steady state\n",
    "    \"\"\"\n",
    "    # Parameters for the expander\n",
    "    alpha_E = 10**(-5)  # degradation of expander\n",
    "    D_E = 1  # diffusivity of the expander\n",
    "    cE_base = 3  # concentration of the expander\n",
    "    \n",
    "    B = np.zeros(Nx)\n",
    "\n",
    "    # Calculate spatial variables\n",
    "    dx = L / (Nx - 1)  # Spatial grid spacing\n",
    "\n",
    "    # Define temporal variables\n",
    "    dt = 1 / (k + ((4 * d) / (dx ** 2)))  # Time step, from the von Neumann stability condition\n",
    "    Nt = round((tMax / dt) + 1)  # The maximum number of time points\n",
    "    tCount = 0  # The current timestep\n",
    "\n",
    "    # Non-dimensionalize variables\n",
    "    d *= dt / (dx ** 2)\n",
    "    k *= dt\n",
    "\n",
    "    # Initialize buffer array to store the concentrations at the previous timestep\n",
    "    concPrev = np.zeros(Nx)\n",
    "    concPrev[0] = c0\n",
    "\n",
    "    # Initialize buffer array for expander concentration\n",
    "    concPrev_E = np.zeros(Nx)\n",
    "\n",
    "    # Define flag to indicate when the system has reached steady state (SS)\n",
    "    flagSS = False\n",
    "\n",
    "\n",
    "    # Loop over time until the maximum number of time points or until the system reaches steady state (SS)\n",
    "    while not flagSS and tCount < Nt:\n",
    "        # Update the timestep counter\n",
    "        tCount += 1\n",
    "        \n",
    "        # Update expander concentration\n",
    "        concCurr_E = np.zeros(Nx)\n",
    "        concCurr_E[Nx - 10:Nx] = cE_base\n",
    "        concCurr_E[1:Nx - 10] = ((1 - (alpha_E * k)) * concPrev_E[1:Nx - 10]) + ((d * D_E) * (concPrev_E[2:Nx-9] + concPrev_E[0:Nx - 11] - (2 * concPrev_E[1:Nx - 10])))+B[1:Nx-10]\n",
    "        concCurr_E[0] = concCurr_E[1]\n",
    "        concPrev_E = np.array(concCurr_E)\n",
    "        \n",
    "        alpha_M = 1 / (1 + concPrev_E)\n",
    "\n",
    "        # Update the concentration\n",
    "        concCurr = np.zeros(Nx)\n",
    "        concCurr[0] = c0\n",
    "        concCurr[1:Nx - 1] = ((1 - (alpha_M[1:Nx-1] * k)) * concPrev[1:Nx - 1]) + (d * (concPrev[2:Nx] + concPrev[0:Nx - 2] - (2 * concPrev[1:Nx - 1])))\n",
    "        concCurr[Nx - 1] = ((1 - (alpha_M[Nx-1] * k)) * concPrev[Nx - 1]) + (2 * d * (concPrev[Nx - 2] - concPrev[Nx - 1]))\n",
    "        \n",
    "        B = expander_production_rate(concCurr)\n",
    "        # Check steady state condition\n",
    "        delC = np.sum(np.abs(concCurr - concPrev)) / (np.sum(concCurr) * dt)\n",
    "        if delC < thresholdSS:\n",
    "            flagSS = True\n",
    "            print(\"Steady state reached at t =\", tCount * dt, \"s\")\n",
    "\n",
    "        # Re-initialize the previous concentration vector ready for the next loop\n",
    "        concPrev = np.array(concCurr)\n",
    "\n",
    "    # Output the final concentration\n",
    "    return concCurr, concCurr_E"
   ]
  },
  {
   "cell_type": "code",
   "execution_count": 8,
   "metadata": {},
   "outputs": [],
   "source": [
    "def Solve(d, k, c0, L, Nx, tMax, thresholdSS):\n",
    "    \"\"\" Solves the basic system for morphogen diffusion.\n",
    "    Inputs:\n",
    "    d - Diffusion coefficient for the morphogen \n",
    "    k - Degradation rate for the morphogen \n",
    "    C0 - Pinned concentration at x = 0\n",
    "    L - Tissue size\n",
    "    Nx- Number of spatial (x) gridpoints\n",
    "    tMax - Maximum time\n",
    "    thresholdSS - Maximum fractional change in concentration per unit time below which the code exits as it has reached steady state (SS)\n",
    "    Outputs:\n",
    "    concCurr - concentration of the morphogen at the maximum time or at steady state \n",
    "    \"\"\"\n",
    "    # Calculate spatial variables\n",
    "    dx = L / (Nx - 1) # Spatial grid spacing\n",
    "\n",
    "    # Define temporal variables\n",
    "    dt = 1 / (k + ((4 * d) / (dx ** 2))) # Time step, from the von Neumann stability condition\n",
    "    Nt = round((tMax / dt) + 1) # The maximum number of time points\n",
    "    tCount = 0 # The current timestep\n",
    "\n",
    "    # Non-dimensionalise variables\n",
    "    d *= dt / (dx ** 2)\n",
    "    k *= dt\n",
    "\n",
    "    # Initialise buffer array to store the concentrations at the previous timestep\n",
    "    concPrev = np.zeros(Nx)\n",
    "    concPrev[0] = c0\n",
    "\n",
    "    # Define flag to indicate when system has reached steady state (SS)\n",
    "    flagSS = 0\n",
    "\n",
    "    # Loop over time until the maximum number of time points or until the system reaches steady state (SS)\n",
    "    while flagSS == 0 and tCount < Nt:\n",
    "\n",
    "        # Update the timestep counter\n",
    "        tCount += 1\n",
    "\n",
    "        # Initialise array to store current concentration vector\n",
    "        concCurr = np.zeros(Nx)\n",
    "\n",
    "        # Update the equation\n",
    "        concCurr[0] = c0\n",
    "        concCurr[1:Nx - 1] = ((1 - k) * concPrev[1:Nx - 1]) + (d * (concPrev[2:Nx] + concPrev[0:Nx - 2] - (2 * concPrev[1: Nx - 1])))\n",
    "        concCurr[Nx - 1] = ((1 - k) * concPrev[Nx - 1]) + (2 * d * (concPrev[Nx - 2] - concPrev[Nx - 1]))\n",
    "\n",
    "        # Check steady state condition\n",
    "        delC = sum(abs(concCurr - concPrev)) / (sum(concCurr) * dt)\n",
    "        if delC < thresholdSS:\n",
    "            flagSS = 1\n",
    "            print(\"Steady state reached at t =\", tCount * dt, \"s\")\n",
    "\n",
    "        # Re-initialise the previous concentration vector ready for the next loop\n",
    "        concPrev = np.array(concCurr)\n",
    "\n",
    "    # Output the final concentration\n",
    "    return concCurr"
   ]
  },
  {
   "cell_type": "code",
   "execution_count": 9,
   "metadata": {},
   "outputs": [
    {
     "name": "stdout",
     "output_type": "stream",
     "text": [
      "Steady state reached at t = 4528.219862585885 s\n"
     ]
    },
    {
     "data": {
      "text/plain": [
       "(<Figure size 720x432 with 1 Axes>,\n",
       " <AxesSubplot:xlabel='Position/$\\\\mu m$', ylabel='Conc/$mol \\\\mu m^{-3}$'>)"
      ]
     },
     "execution_count": 9,
     "metadata": {},
     "output_type": "execute_result"
    },
    {
     "data": {
      "image/png": "[encoded data removed]",
      "text/plain": [
       "<Figure size 720x432 with 1 Axes>"
      ]
     },
     "metadata": {
      "needs_background": "light"
     },
     "output_type": "display_data"
    }
   ],
   "source": [
    "# Calculate decay length\n",
    "lam = np.sqrt(d / k)\n",
    "\n",
    "# Define x-axis for plotting\n",
    "x = np.linspace(0, L, Nx)\n",
    "\n",
    "# Calculate the steady state concentration\n",
    "conc_M,conc_E= Solve_E(d, k, c0, L, Nx, tMax, thresholdSS)\n",
    "\n",
    "# Plot results\n",
    "fig, ax = plt.subplots() # Initiate the figure and axes\n",
    "plot(fig, ax, x, conc_M, L, xLabel = 'Position/$\\mu m$', yLabel = 'Conc/$mol \\mu m^{-3}$', colour = 'royalblue', linelabel = 'Numerical')\n",
    "plot(fig, ax, x, conc_E, L, xLabel = 'Position/$\\mu m$', yLabel = 'Conc/$mol \\mu m^{-3}$', colour = 'pink', linelabel = 'Numerical')\n",
    "#plot(fig, ax, x, concAna, L, xLabel = 'Position/$\\mu m$', yLabel = 'Conc/$mol \\mu m^{-3}$', colour = 'coral', linestyle = '--', linelabel = 'Analytical');"
   ]
  },
  {
   "cell_type": "code",
   "execution_count": 10,
   "metadata": {},
   "outputs": [
    {
     "data": {
      "text/plain": [
       "(<Figure size 720x432 with 1 Axes>,\n",
       " <AxesSubplot:xlabel='Position/$\\\\mu m$', ylabel='Conc/$mol \\\\mu m^{-3}$'>)"
      ]
     },
     "execution_count": 10,
     "metadata": {},
     "output_type": "execute_result"
    },
    {
     "data": {
      "image/png": "[encoded data removed]",
      "text/plain": [
       "<Figure size 720x432 with 1 Axes>"
      ]
     },
     "metadata": {
      "needs_background": "light"
     },
     "output_type": "display_data"
    }
   ],
   "source": [
    "# Plot results\n",
    "fig, ax = plt.subplots() # Initiate the figure and axes\n",
    "plot(fig, ax, x, conc_M, L, xLabel = 'Position/$\\mu m$', yLabel = 'Conc/$mol \\mu m^{-3}$', colour = 'royalblue', linelabel = 'Morphogen')\n",
    "plot(fig, ax, x, conc_E, L, xLabel = 'Position/$\\mu m$', yLabel = 'Conc/$mol \\mu m^{-3}$', colour = 'pink', linelabel = 'Expander')\n",
    "#plot(fig, ax, x, concAna, L, xLabel = 'Position/$\\mu m$', yLabel = 'Conc/$mol \\mu m^{-3}$', colour = 'coral', linestyle = '--', linelabel = 'Analytical');"
   ]
  },
  {
   "cell_type": "code",
   "execution_count": 10,
   "metadata": {},
   "outputs": [],
   "source": [
    "def findXThresh(cThresh, x, conc):\n",
    "    \"\"\" Extracts the position corresponding to a concentration threshold.\n",
    "    Inputs:\n",
    "    cThresh - The threshold concentration\n",
    "    x -  The position (x-axis) array\n",
    "    conc - The concentration (y-axis) array\n",
    "    \"\"\"\n",
    "    # Find indexes corresponding to concentrations below cThresh\n",
    "    cInd = [i for i, val in enumerate(conc) if val < cThresh]\n",
    "\n",
    "    # Check if any indexes were found\n",
    "    if(len(cInd) > 0):\n",
    "\n",
    "        # Extract index corresponding to concentration just below cThresh\n",
    "        cInd = cInd[0]\n",
    "\n",
    "        # Use linear interpolation to find concentration at position\n",
    "        m = (conc[cInd] - conc[cInd - 1]) / (x[cInd] - x[cInd - 1]) # The gradient of the morphogen profile between the two points\n",
    "        return x[cInd] + ((cThresh - conc[cInd]) / m)\n",
    "\n",
    "    else:\n",
    "        print(\"No concentrations are below the threshold\")\n",
    "        return None"
   ]
  },
  {
   "cell_type": "markdown",
   "metadata": {},
   "source": [
    "In the following section we increase and decrease each parameter by a certain percentage:\n",
    "## Section 1 :  Diffusion coefficient for the morphogen\n",
    "## Section 2 :  Degradation rate for the morphogen \n",
    "## Section 3 : Initial morphogen concentration at x = 0\n",
    "## Section 4 : Initial tissue size "
   ]
  },
  {
   "cell_type": "markdown",
   "metadata": {},
   "source": [
    "# Section 1"
   ]
  },
  {
   "cell_type": "code",
   "execution_count": 13,
   "metadata": {},
   "outputs": [
    {
     "name": "stdout",
     "output_type": "stream",
     "text": [
      "Steady state reached at t = 141.91755153029357 s\n",
      "Steady state reached at t = 4528.219862585885 s\n",
      "Steady state reached at t = 141.9214753123141 s\n",
      "Steady state reached at t = 4328.697204045212 s\n",
      "Steady state reached at t = 141.91321499013807 s\n",
      "Steady state reached at t = 4747.560815253123 s\n",
      "Steady state reached at t = 141.91936399772857 s\n",
      "Steady state reached at t = 4146.450880181715 s\n",
      "Steady state reached at t = 141.9083969465649 s\n",
      "Steady state reached at t = 4989.757113115892 s\n",
      "Steady state reached at t = 141.91743617599133 s\n",
      "Steady state reached at t = 3979.326453014666 s\n",
      "Steady state reached at t = 141.90301249081557 s\n",
      "Steady state reached at t = 5258.457016899339 s\n",
      "Steady state reached at t = 141.9104633003644 s\n",
      "Steady state reached at t = 3825.5283706402915 s\n",
      "Steady state reached at t = 141.88914910226384 s\n",
      "Steady state reached at t = 5558.024980483997 s\n",
      "Steady state reached at t = 141.904047976012 s\n",
      "Steady state reached at t = 3683.5182408795604 s\n",
      "Steady state reached at t = 141.87343880099917 s\n",
      "Steady state reached at t = 5893.60532889259 s\n",
      "Steady state reached at t = 141.87875983341044 s\n",
      "Steady state reached at t = 3429.8102730217493 s\n",
      "Steady state reached at t = 141.84438040345822 s\n",
      "Steady state reached at t = 6696.983669548512 s\n",
      "Steady state reached at t = 141.8607764390897 s\n",
      "Steady state reached at t = 3316.0196340919233 s\n",
      "Steady state reached at t = 141.83142559833507 s\n",
      "Steady state reached at t = 7176.81581685744 s\n",
      "Steady state reached at t = 141.84403274450668 s\n",
      "Steady state reached at t = 3209.7759586385177 s\n",
      "Steady state reached at t = 141.80476730987516 s\n",
      "Steady state reached at t = 7712.167990919411 s\n",
      "Steady state reached at t = 141.820074968763 s\n",
      "Steady state reached at t = 3110.3456892961267 s\n",
      "Steady state reached at t = 141.78526841448192 s\n",
      "Steady state reached at t = 8291.922596754059 s\n",
      "Steady state reached at t = 141.79766223297057 s\n",
      "Steady state reached at t = 3017.085852478839 s\n",
      "Steady state reached at t = 141.747572815534 s\n",
      "Steady state reached at t = 8874.063800277392 s\n",
      "Steady state reached at t = 141.76884029675907 s\n",
      "Steady state reached at t = 2929.441624365482 s\n",
      "Steady state reached at t = 141.7160686427457 s\n",
      "Steady state reached at t = 9360.811232449298 s\n",
      "Steady state reached at t = 141.73797803862172 s\n",
      "Steady state reached at t = 2846.910261264672 s\n",
      "Steady state reached at t = 141.67557932263816 s\n",
      "Steady state reached at t = 9616.50623885918 s\n",
      "Steady state reached at t = 141.70525542080117 s\n",
      "Steady state reached at t = 2769.0591694230056 s\n",
      "Steady state reached at t = 141.6216216216216 s\n",
      "Steady state reached at t = 9614.116424116422 s\n",
      "Steady state reached at t = 141.66726169225277 s\n",
      "Steady state reached at t = 2695.4908961085325 s\n",
      "Steady state reached at t = 141.54613466334163 s\n",
      "Steady state reached at t = 9572.543640897755 s\n",
      "Steady state reached at t = 141.63137799375215 s\n",
      "Steady state reached at t = 2625.8625477264836 s\n",
      "Steady state reached at t = 141.46417445482865 s\n",
      "Steady state reached at t = 9843.582554517134 s\n",
      "Steady state reached at t = 141.59067882472138 s\n",
      "Steady state reached at t = 2559.864910503208 s\n",
      "Steady state reached at t = 141.3278008298755 s\n",
      "Steady state reached at t = 10846.141078838175 s\n",
      "Steady state reached at t = 141.54554422887207 s\n",
      "Steady state reached at t = 2497.2147319960536 s\n",
      "Steady state reached at t = 141.05590062111798 s\n",
      "Steady state reached at t = 13514.409937888197 s\n"
     ]
    }
   ],
   "source": [
    "percentage_change = [5,10,15,20,25,35,40,45,50,55,60,65,70,75,80,85,90]\n",
    "\n",
    "clean_original = Solve(d, k, c0, L, Nx, tMax, thresholdSS)\n",
    "clean_circuit,_ =Solve_E(d, k, c0, L, Nx, tMax, thresholdSS)\n",
    "\n",
    "x = np.linspace(0, L, Nx)\n",
    "\n",
    "distance_org = findXThresh(5, x, clean_original)\n",
    "distance_circuit = findXThresh(5, x, clean_circuit)\n",
    "\n",
    "perc_up_origin = []\n",
    "perc_up_circuit =[]\n",
    "perc_down_origin =[]\n",
    "perc_down_circuit = []\n",
    "\n",
    "for i in percentage_change:\n",
    "    plus = (100+i)/100\n",
    "    minus = (100-i)/100\n",
    "    \n",
    "    d_plus = d*plus\n",
    "    d_minus = d*minus \n",
    "    \n",
    "    new_original_plus = Solve(d_plus, k, c0, L, Nx, tMax, thresholdSS)\n",
    "    new_circuit_plus,_ =Solve_E(d_plus, k, c0, L, Nx, tMax, thresholdSS)\n",
    "    \n",
    "    new_original_minus = Solve(d_minus, k, c0, L, Nx, tMax, thresholdSS)\n",
    "    new_circuit_minus,_ =Solve_E(d_minus, k, c0, L, Nx, tMax, thresholdSS)\n",
    "    \n",
    "    distance_new_org_plus = findXThresh(5, x, new_original_plus)\n",
    "    distance_new_circuit_plus = findXThresh(5, x,new_circuit_plus)\n",
    "\n",
    "    distance_new_org_minus= findXThresh(5, x, new_original_minus)\n",
    "    distance_new_circuit_minus = findXThresh(5, x,new_circuit_minus)\n",
    "    \n",
    "    perc_up_org = ((distance_new_org_plus-distance_org)/distance_org)*100\n",
    "    perc_up_new = ((distance_new_circuit_plus-distance_circuit)/distance_circuit)*100\n",
    "    \n",
    "    perc_down_org = ((distance_new_org_minus-distance_org)/distance_org)*100\n",
    "    perc_down_new =((distance_new_circuit_minus-distance_circuit)/distance_circuit)*100\n",
    "    \n",
    "    perc_up_origin.append(perc_up_org)\n",
    "    perc_up_circuit.append(perc_up_new)\n",
    "    perc_down_origin.append(perc_down_org)\n",
    "    perc_down_circuit.append(perc_down_new)"
   ]
  },
  {
   "cell_type": "code",
   "execution_count": 20,
   "metadata": {},
   "outputs": [
    {
     "data": {
      "text/plain": [
       "[<matplotlib.lines.Line2D at 0x7fd581b44b50>]"
      ]
     },
     "execution_count": 20,
     "metadata": {},
     "output_type": "execute_result"
    },
    {
     "data": {
      "image/png": "[encoded data removed]",
      "text/plain": [
       "<Figure size 720x432 with 1 Axes>"
      ]
     },
     "metadata": {
      "needs_background": "light"
     },
     "output_type": "display_data"
    }
   ],
   "source": [
    "not_minus_org = -1*np.array(perc_down_origin)\n",
    "not_minus_circuit = -1*np.array(perc_down_circuit)\n",
    "\n",
    "neg_percentage_change = -1*np.array(percentage_change)\n",
    "\n",
    "\n",
    "plt.plot(neg_percentage_change,not_minus_org,color='red')\n",
    "plt.plot(neg_percentage_change,not_minus_circuit,color='blue')\n",
    "plt.plot(percentage_change,perc_up_origin,color='red')\n",
    "plt.plot(percentage_change,perc_up_circuit,color='blue')\n"
   ]
  },
  {
   "cell_type": "markdown",
   "metadata": {},
   "source": [
    "# Section 2"
   ]
  },
  {
   "cell_type": "code",
   "execution_count": 21,
   "metadata": {},
   "outputs": [
    {
     "name": "stdout",
     "output_type": "stream",
     "text": [
      "Steady state reached at t = 141.91755153029357 s\n",
      "Steady state reached at t = 4528.219862585885 s\n",
      "Steady state reached at t = 135.60475937665908 s\n",
      "Steady state reached at t = 4528.965366478249 s\n",
      "Steady state reached at t = 148.8678597082982 s\n",
      "Steady state reached at t = 4527.168243855211 s\n",
      "Steady state reached at t = 129.84822934232713 s\n",
      "Steady state reached at t = 4529.3735556804695 s\n",
      "Steady state reached at t = 156.5619339121744 s\n",
      "Steady state reached at t = 4525.835467549503 s\n",
      "Steady state reached at t = 124.56671767167347 s\n",
      "Steady state reached at t = 4529.394497704774 s\n",
      "Steady state reached at t = 165.11853078052286 s\n",
      "Steady state reached at t = 4524.246494050036 s\n",
      "Steady state reached at t = 119.71646265301024 s\n",
      "Steady state reached at t = 4528.984511616288 s\n",
      "Steady state reached at t = 174.69390304847576 s\n",
      "Steady state reached at t = 4522.426286856571 s\n",
      "Steady state reached at t = 115.23497267759562 s\n",
      "Steady state reached at t = 4528.087431693989 s\n",
      "Steady state reached at t = 185.48805247540218 s\n",
      "Steady state reached at t = 4520.381071372794 s\n",
      "Steady state reached at t = 107.24076560402162 s\n",
      "Steady state reached at t = 4524.544915227777 s\n",
      "Steady state reached at t = 211.80145565863867 s\n",
      "Steady state reached at t = 4515.665510886202 s\n",
      "Steady state reached at t = 103.65305357811916 s\n",
      "Steady state reached at t = 4521.743474459848 s\n",
      "Steady state reached at t = 228.06447582156693 s\n",
      "Steady state reached at t = 4513.020117455954 s\n",
      "Steady state reached at t = 100.30909488276248 s\n",
      "Steady state reached at t = 4518.136688625932 s\n",
      "Steady state reached at t = 247.10880634781793 s\n",
      "Steady state reached at t = 4510.180875324108 s\n",
      "Steady state reached at t = 97.17764595691538 s\n",
      "Steady state reached at t = 4513.605994380268 s\n",
      "Steady state reached at t = 269.7157138394252 s\n",
      "Steady state reached at t = 4507.172758512965 s\n",
      "Steady state reached at t = 94.24619899472387 s\n",
      "Steady state reached at t = 4508.045331085511 s\n",
      "Steady state reached at t = 296.9977193914212 s\n",
      "Steady state reached at t = 4504.014495923022 s\n",
      "Steady state reached at t = 91.48351648351648 s\n",
      "Steady state reached at t = 4501.323676323676 s\n",
      "Steady state reached at t = 330.57360659835047 s\n",
      "Steady state reached at t = 4500.737315671083 s\n",
      "Steady state reached at t = 88.88958261792527 s\n",
      "Steady state reached at t = 4493.303780476384 s\n",
      "Steady state reached at t = 372.9121754616178 s\n",
      "Steady state reached at t = 4497.416190208392 s\n",
      "Steady state reached at t = 86.43940812886309 s\n",
      "Steady state reached at t = 4483.842167696823 s\n",
      "Steady state reached at t = 427.99475098419043 s\n",
      "Steady state reached at t = 4494.182340811098 s\n",
      "Steady state reached at t = 84.12673638208209 s\n",
      "Steady state reached at t = 4472.776650538473 s\n",
      "Steady state reached at t = 502.633963443212 s\n",
      "Steady state reached at t = 4491.310732698016 s\n",
      "Steady state reached at t = 81.93906854788362 s\n",
      "Steady state reached at t = 4459.957547758771 s\n",
      "Steady state reached at t = 609.5925509311336 s\n",
      "Steady state reached at t = 4489.370078740158 s\n",
      "Steady state reached at t = 79.86390735711834 s\n",
      "Steady state reached at t = 4445.216468458345 s\n",
      "Steady state reached at t = 775.9710027184952 s\n",
      "Steady state reached at t = 4489.760334968597 s\n",
      "Steady state reached at t = 77.89499968787067 s\n",
      "Steady state reached at t = 4428.403770522505 s\n",
      "Steady state reached at t = 1071.2642959815014 s\n",
      "Steady state reached at t = 4496.725204674708 s\n"
     ]
    }
   ],
   "source": [
    "percentage_change = [5,10,15,20,25,35,40,45,50,55,60,65,70,75,80,85,90]\n",
    "\n",
    "clean_original = Solve(d, k, c0, L, Nx, tMax, thresholdSS)\n",
    "clean_circuit,_ =Solve_E(d, k, c0, L, Nx, tMax, thresholdSS)\n",
    "\n",
    "x = np.linspace(0, L, Nx)\n",
    "\n",
    "distance_org = findXThresh(5, x, clean_original)\n",
    "distance_circuit = findXThresh(5, x, clean_circuit)\n",
    "\n",
    "perc_up_origin = []\n",
    "perc_up_circuit =[]\n",
    "perc_down_origin =[]\n",
    "perc_down_circuit = []\n",
    "\n",
    "for i in percentage_change:\n",
    "    plus = (100+i)/100\n",
    "    minus = (100-i)/100\n",
    "    \n",
    "    d_plus = k*plus\n",
    "    d_minus = k*minus \n",
    "    \n",
    "    new_original_plus = Solve(d,d_plus, c0, L, Nx, tMax, thresholdSS)\n",
    "    new_circuit_plus,_ =Solve_E(d,d_plus,c0, L, Nx, tMax, thresholdSS)\n",
    "    \n",
    "    new_original_minus = Solve(d,d_minus, c0, L, Nx, tMax, thresholdSS)\n",
    "    new_circuit_minus,_ =Solve_E(d,d_minus, c0, L, Nx, tMax, thresholdSS)\n",
    "    \n",
    "    distance_new_org_plus = findXThresh(5, x, new_original_plus)\n",
    "    distance_new_circuit_plus = findXThresh(5, x,new_circuit_plus)\n",
    "\n",
    "    distance_new_org_minus= findXThresh(5, x, new_original_minus)\n",
    "    distance_new_circuit_minus = findXThresh(5, x,new_circuit_minus)\n",
    "    \n",
    "    perc_up_org = ((distance_new_org_plus-distance_org)/distance_org)*100\n",
    "    perc_up_new = ((distance_new_circuit_plus-distance_circuit)/distance_circuit)*100\n",
    "    \n",
    "    perc_down_org = ((distance_new_org_minus-distance_org)/distance_org)*100\n",
    "    perc_down_new =((distance_new_circuit_minus-distance_circuit)/distance_circuit)*100\n",
    "    \n",
    "    perc_up_origin.append(perc_up_org)\n",
    "    perc_up_circuit.append(perc_up_new)\n",
    "    perc_down_origin.append(perc_down_org)\n",
    "    perc_down_circuit.append(perc_down_new)"
   ]
  },
  {
   "cell_type": "code",
   "execution_count": 24,
   "metadata": {},
   "outputs": [
    {
     "data": {
      "text/plain": [
       "[<matplotlib.lines.Line2D at 0x7fd58143b970>]"
      ]
     },
     "execution_count": 24,
     "metadata": {},
     "output_type": "execute_result"
    },
    {
     "data": {
      "image/png": "[encoded data removed]",
      "text/plain": [
       "<Figure size 720x432 with 1 Axes>"
      ]
     },
     "metadata": {
      "needs_background": "light"
     },
     "output_type": "display_data"
    }
   ],
   "source": [
    "not_minus_org = -1*np.array(perc_down_origin)\n",
    "not_minus_circuit = -1*np.array(perc_down_circuit)\n",
    "\n",
    "neg_percentage_change = -1*np.array(percentage_change)\n",
    "\n",
    "\n",
    "plt.plot(neg_percentage_change,not_minus_org,color='red')\n",
    "plt.plot(neg_percentage_change,not_minus_circuit,color='blue')\n",
    "plt.plot(percentage_change,perc_up_origin,color='red')\n",
    "plt.plot(percentage_change,perc_up_circuit,color='blue')"
   ]
  },
  {
   "cell_type": "markdown",
   "metadata": {},
   "source": [
    "# Section 3"
   ]
  },
  {
   "cell_type": "code",
   "execution_count": 26,
   "metadata": {},
   "outputs": [
    {
     "name": "stdout",
     "output_type": "stream",
     "text": [
      "Steady state reached at t = 141.91755153029357 s\n",
      "Steady state reached at t = 4528.219862585885 s\n",
      "Steady state reached at t = 141.91755153029357 s\n",
      "Steady state reached at t = 4525.346658338539 s\n",
      "Steady state reached at t = 141.91755153029357 s\n",
      "Steady state reached at t = 4531.199250468458 s\n",
      "Steady state reached at t = 141.91755153029357 s\n",
      "Steady state reached at t = 4522.567145534042 s\n",
      "Steady state reached at t = 141.91755153029357 s\n",
      "Steady state reached at t = 4534.278575890069 s\n",
      "Steady state reached at t = 141.91755153029357 s\n",
      "Steady state reached at t = 4519.887570268583 s\n",
      "Steady state reached at t = 141.91755153029357 s\n",
      "Steady state reached at t = 4537.470331043099 s\n",
      "Steady state reached at t = 141.91755153029357 s\n",
      "Steady state reached at t = 4517.301686445971 s\n",
      "Steady state reached at t = 141.91755153029357 s\n",
      "Steady state reached at t = 4540.762023735166 s\n",
      "Steady state reached at t = 141.91755153029357 s\n",
      "Steady state reached at t = 4514.797001873829 s\n",
      "Steady state reached at t = 141.91755153029357 s\n",
      "Steady state reached at t = 4544.147407870081 s\n",
      "Steady state reached at t = 141.91755153029357 s\n",
      "Steady state reached at t = 4510.037476577139 s\n",
      "Steady state reached at t = 141.91755153029357 s\n",
      "Steady state reached at t = 4551.136789506559 s\n",
      "Steady state reached at t = 141.91755153029357 s\n",
      "Steady state reached at t = 4507.770143660213 s\n",
      "Steady state reached at t = 141.91755153029357 s\n",
      "Steady state reached at t = 4554.665833853842 s\n",
      "Steady state reached at t = 141.91755153029357 s\n",
      "Steady state reached at t = 4505.571517801374 s\n",
      "Steady state reached at t = 141.91755153029357 s\n",
      "Steady state reached at t = 4558.113678950656 s\n",
      "Steady state reached at t = 141.91755153029357 s\n",
      "Steady state reached at t = 4503.441599000625 s\n",
      "Steady state reached at t = 141.91755153029357 s\n",
      "Steady state reached at t = 4561.336664584635 s\n",
      "Steady state reached at t = 141.91755153029357 s\n",
      "Steady state reached at t = 4501.374141161774 s\n",
      "Steady state reached at t = 141.91755153029357 s\n",
      "Steady state reached at t = 4564.097439100563 s\n",
      "Steady state reached at t = 141.91755153029357 s\n",
      "Steady state reached at t = 4499.362898188632 s\n",
      "Steady state reached at t = 141.91755153029357 s\n",
      "Steady state reached at t = 4565.946283572767 s\n",
      "Steady state reached at t = 141.91755153029357 s\n",
      "Steady state reached at t = 4497.41411617739 s\n",
      "Steady state reached at t = 141.91755153029357 s\n",
      "Steady state reached at t = 4566.077451592755 s\n",
      "Steady state reached at t = 141.91755153029357 s\n",
      "Steady state reached at t = 4495.515302935665 s\n",
      "Steady state reached at t = 141.91755153029357 s\n",
      "Steady state reached at t = 4562.898188632105 s\n",
      "Steady state reached at t = 141.91755153029357 s\n",
      "Steady state reached at t = 4493.672704559651 s\n",
      "Steady state reached at t = 141.91755153029357 s\n",
      "Steady state reached at t = 4553.098063710181 s\n",
      "Steady state reached at t = 141.91755153029357 s\n",
      "Steady state reached at t = 4491.873828856965 s\n",
      "Steady state reached at t = 141.91755153029357 s\n",
      "Steady state reached at t = 4529.063085571518 s\n",
      "Steady state reached at t = 141.91755153029357 s\n",
      "Steady state reached at t = 4490.124921923798 s\n",
      "Steady state reached at t = 141.91755153029357 s\n",
      "Steady state reached at t = 4470.974391005622 s\n",
      "Steady state reached at t = 141.91755153029357 s\n",
      "Steady state reached at t = 4488.41973766396 s\n",
      "Steady state reached at t = 141.91755153029357 s\n",
      "Steady state reached at t = 4317.838850718302 s\n"
     ]
    }
   ],
   "source": [
    "percentage_change = [5,10,15,20,25,35,40,45,50,55,60,65,70,75,80,85,90]\n",
    "\n",
    "clean_original = Solve(d, k, c0, L, Nx, tMax, thresholdSS)\n",
    "clean_circuit,_ =Solve_E(d, k, c0, L, Nx, tMax, thresholdSS)\n",
    "\n",
    "x = np.linspace(0, L, Nx)\n",
    "\n",
    "distance_org = findXThresh(5, x, clean_original)\n",
    "distance_circuit = findXThresh(5, x, clean_circuit)\n",
    "\n",
    "perc_up_origin = []\n",
    "perc_up_circuit =[]\n",
    "perc_down_origin =[]\n",
    "perc_down_circuit = []\n",
    "\n",
    "for i in percentage_change:\n",
    "    plus = (100+i)/100\n",
    "    minus = (100-i)/100\n",
    "    \n",
    "    d_plus = c0*plus\n",
    "    d_minus = c0*minus \n",
    "    \n",
    "    new_original_plus = Solve(d,k,d_plus, L, Nx, tMax, thresholdSS)\n",
    "    new_circuit_plus,_ =Solve_E(d,k,d_plus, L, Nx, tMax, thresholdSS)\n",
    "    \n",
    "    new_original_minus = Solve(d,k,d_minus, L, Nx, tMax, thresholdSS)\n",
    "    new_circuit_minus,_ =Solve_E(d,k,d_minus, L, Nx, tMax, thresholdSS)\n",
    "    \n",
    "    distance_new_org_plus = findXThresh(5, x, new_original_plus)\n",
    "    distance_new_circuit_plus = findXThresh(5, x,new_circuit_plus)\n",
    "\n",
    "    distance_new_org_minus= findXThresh(5, x, new_original_minus)\n",
    "    distance_new_circuit_minus = findXThresh(5, x,new_circuit_minus)\n",
    "    \n",
    "    perc_up_org = ((distance_new_org_plus-distance_org)/distance_org)*100\n",
    "    perc_up_new = ((distance_new_circuit_plus-distance_circuit)/distance_circuit)*100\n",
    "    \n",
    "    perc_down_org = ((distance_new_org_minus-distance_org)/distance_org)*100\n",
    "    perc_down_new =((distance_new_circuit_minus-distance_circuit)/distance_circuit)*100\n",
    "    \n",
    "    perc_up_origin.append(perc_up_org)\n",
    "    perc_up_circuit.append(perc_up_new)\n",
    "    perc_down_origin.append(perc_down_org)\n",
    "    perc_down_circuit.append(perc_down_new)"
   ]
  },
  {
   "cell_type": "code",
   "execution_count": 28,
   "metadata": {},
   "outputs": [
    {
     "data": {
      "text/plain": [
       "[<matplotlib.lines.Line2D at 0x7fd5824b2d30>]"
      ]
     },
     "execution_count": 28,
     "metadata": {},
     "output_type": "execute_result"
    },
    {
     "data": {
      "image/png": "[encoded data removed]",
      "text/plain": [
       "<Figure size 720x432 with 1 Axes>"
      ]
     },
     "metadata": {
      "needs_background": "light"
     },
     "output_type": "display_data"
    }
   ],
   "source": [
    "not_minus_org = -1*np.array(perc_down_origin)\n",
    "not_minus_circuit = -1*np.array(perc_down_circuit)\n",
    "\n",
    "neg_percentage_change = -1*np.array(percentage_change)\n",
    "\n",
    "\n",
    "#plt.plot(neg_percentage_change,not_minus_org,color='red')\n",
    "#plt.plot(neg_percentage_change,not_minus_circuit,color='blue')\n",
    "plt.plot(percentage_change,perc_up_origin,color='red')\n",
    "plt.plot(percentage_change,perc_up_circuit,color='blue')"
   ]
  },
  {
   "cell_type": "markdown",
   "metadata": {},
   "source": [
    "# Section 4"
   ]
  },
  {
   "cell_type": "code",
   "execution_count": 13,
   "metadata": {},
   "outputs": [
    {
     "name": "stdout",
     "output_type": "stream",
     "text": [
      "Steady state reached at t = 141.91755153029357 s\n",
      "Steady state reached at t = 4528.219862585885 s\n",
      "5\n",
      "Steady state reached at t = 141.91110500420805 s\n",
      "Steady state reached at t = 4954.197997942043 s\n",
      "Steady state reached at t = 141.91704366755624 s\n",
      "Steady state reached at t = 4118.627211838322 s\n",
      "10\n",
      "Steady state reached at t = 141.89375534751846 s\n",
      "Steady state reached at t = 5395.438824389056 s\n",
      "Steady state reached at t = 141.90597260137056 s\n",
      "Steady state reached at t = 3726.174061881173 s\n",
      "15\n",
      "Steady state reached at t = 141.8779009225187 s\n",
      "Steady state reached at t = 5850.23560213511 s\n",
      "Steady state reached at t = 141.8665477620262 s\n",
      "Steady state reached at t = 3351.3878732884677 s\n",
      "20\n",
      "Steady state reached at t = 141.85632930362675 s\n",
      "Steady state reached at t = 6315.942651613548 s\n",
      "Steady state reached at t = 141.79128348660538 s\n",
      "Steady state reached at t = 2994.6701319472218 s\n",
      "25\n",
      "Steady state reached at t = 141.8439024390244 s\n",
      "Steady state reached at t = 6788.487804878048 s\n",
      "Steady state reached at t = 141.64746768714122 s\n",
      "Steady state reached at t = 2656.3442539732123 s\n",
      "35\n",
      "Steady state reached at t = 141.79984049418712 s\n",
      "Steady state reached at t = 7726.811319606262 s\n",
      "Steady state reached at t = 141.03022795543055 s\n",
      "Steady state reached at t = 2036.0047893603098 s\n",
      "40\n",
      "Steady state reached at t = 141.77932033259256 s\n",
      "Steady state reached at t = 8171.37306799171 s\n",
      "Steady state reached at t = 140.44714939138694 s\n",
      "Steady state reached at t = 1754.5219825539252 s\n",
      "45\n",
      "Steady state reached at t = 141.77187477080898 s\n",
      "Steady state reached at t = 8579.947771756177 s\n",
      "Steady state reached at t = 139.5698000846715 s\n",
      "Steady state reached at t = 1492.5118376057028 s\n",
      "50\n",
      "Steady state reached at t = 141.7475425183336 s\n",
      "Steady state reached at t = 8935.27695428304 s\n",
      "Steady state reached at t = 138.2737072332448 s\n",
      "Steady state reached at t = 1250.248398687705 s\n",
      "55\n",
      "Steady state reached at t = 141.72988684178915 s\n",
      "Steady state reached at t = 9221.738374097646 s\n",
      "Steady state reached at t = 136.37281844016618 s\n",
      "Steady state reached at t = 1028.0117516376833 s\n",
      "60\n",
      "Steady state reached at t = 141.70926517571888 s\n",
      "Steady state reached at t = 9429.968051118212 s\n",
      "Steady state reached at t = 133.58364163583644 s\n",
      "Steady state reached at t = 826.1063893610641 s\n",
      "65\n",
      "Steady state reached at t = 141.68624013202535 s\n",
      "Steady state reached at t = 9560.551265112956 s\n",
      "Steady state reached at t = 129.46646272394767 s\n",
      "Steady state reached at t = 644.8702521213219 s\n",
      "70\n",
      "Steady state reached at t = 141.6792169144483 s\n",
      "Steady state reached at t = 9624.468616062237 s\n",
      "Steady state reached at t = 123.31893830972008 s\n",
      "Steady state reached at t = 484.69192357929865 s\n",
      "75\n",
      "Steady state reached at t = 141.6565947990175 s\n",
      "Steady state reached at t = 9639.755156146439 s\n",
      "Steady state reached at t = 114.02953009648061 s\n",
      "Steady state reached at t = 346.00015624389675 s\n",
      "No concentrations are below the threshold\n"
     ]
    },
    {
     "ename": "TypeError",
     "evalue": "unsupported operand type(s) for -: 'NoneType' and 'float'",
     "output_type": "error",
     "traceback": [
      "\u001b[0;31m---------------------------------------------------------------------------\u001b[0m",
      "\u001b[0;31mTypeError\u001b[0m                                 Traceback (most recent call last)",
      "\u001b[0;32m<ipython-input-13-a66142ff200f>\u001b[0m in \u001b[0;36m<module>\u001b[0;34m\u001b[0m\n\u001b[1;32m     38\u001b[0m \u001b[0;34m\u001b[0m\u001b[0m\n\u001b[1;32m     39\u001b[0m     \u001b[0mperc_down_org\u001b[0m \u001b[0;34m=\u001b[0m \u001b[0;34m(\u001b[0m\u001b[0;34m(\u001b[0m\u001b[0mdistance_new_org_minus\u001b[0m\u001b[0;34m-\u001b[0m\u001b[0mdistance_org\u001b[0m\u001b[0;34m)\u001b[0m\u001b[0;34m/\u001b[0m\u001b[0mdistance_org\u001b[0m\u001b[0;34m)\u001b[0m\u001b[0;34m*\u001b[0m\u001b[0;36m100\u001b[0m\u001b[0;34m\u001b[0m\u001b[0;34m\u001b[0m\u001b[0m\n\u001b[0;32m---> 40\u001b[0;31m     \u001b[0mperc_down_new\u001b[0m \u001b[0;34m=\u001b[0m\u001b[0;34m(\u001b[0m\u001b[0;34m(\u001b[0m\u001b[0mdistance_new_circuit_minus\u001b[0m\u001b[0;34m-\u001b[0m\u001b[0mdistance_circuit\u001b[0m\u001b[0;34m)\u001b[0m\u001b[0;34m/\u001b[0m\u001b[0mdistance_circuit\u001b[0m\u001b[0;34m)\u001b[0m\u001b[0;34m*\u001b[0m\u001b[0;36m100\u001b[0m\u001b[0;34m\u001b[0m\u001b[0;34m\u001b[0m\u001b[0m\n\u001b[0m\u001b[1;32m     41\u001b[0m \u001b[0;34m\u001b[0m\u001b[0m\n\u001b[1;32m     42\u001b[0m     \u001b[0mperc_up_origin\u001b[0m\u001b[0;34m.\u001b[0m\u001b[0mappend\u001b[0m\u001b[0;34m(\u001b[0m\u001b[0mperc_up_org\u001b[0m\u001b[0;34m)\u001b[0m\u001b[0;34m\u001b[0m\u001b[0;34m\u001b[0m\u001b[0m\n",
      "\u001b[0;31mTypeError\u001b[0m: unsupported operand type(s) for -: 'NoneType' and 'float'"
     ]
    }
   ],
   "source": [
    "percentage_change = [5,10,15,20,25,35,40,45,50,55,60,65,70,75,80,85,90]\n",
    "\n",
    "clean_original = Solve(d, k, c0, L, Nx, tMax, thresholdSS)\n",
    "clean_circuit,_ =Solve_E(d, k, c0, L, Nx, tMax, thresholdSS)\n",
    "\n",
    "x = np.linspace(0, L, Nx)\n",
    "\n",
    "distance_org = findXThresh(5, x, clean_original)\n",
    "distance_circuit = findXThresh(5, x, clean_circuit)\n",
    "\n",
    "perc_up_origin = []\n",
    "perc_up_circuit =[]\n",
    "perc_down_origin =[]\n",
    "perc_down_circuit = []\n",
    "\n",
    "for i in percentage_change:\n",
    "    print(i)\n",
    "    plus = (100+i)/100\n",
    "    minus = (100-i)/100\n",
    "    \n",
    "    d_plus = L*plus\n",
    "    d_minus = L*minus \n",
    "    \n",
    "    new_original_plus = Solve(d,k,c0,d_plus, Nx, tMax, thresholdSS)\n",
    "    new_circuit_plus,_ =Solve_E(d,k,c0,d_plus, Nx, tMax, thresholdSS)\n",
    "    \n",
    "    new_original_minus = Solve(d,k,c0,d_minus, Nx, tMax, thresholdSS)\n",
    "    new_circuit_minus,_ =Solve_E(d,k,c0,d_minus, Nx, tMax, thresholdSS)\n",
    "    \n",
    "    distance_new_org_plus = findXThresh(5, x, new_original_plus)\n",
    "    distance_new_circuit_plus = findXThresh(5, x,new_circuit_plus)\n",
    "\n",
    "    distance_new_org_minus= findXThresh(5, x, new_original_minus)\n",
    "    distance_new_circuit_minus = findXThresh(5, x,new_circuit_minus)\n",
    "    \n",
    "    perc_up_org = ((distance_new_org_plus-distance_org)/distance_org)*100\n",
    "    perc_up_new = ((distance_new_circuit_plus-distance_circuit)/distance_circuit)*100\n",
    "    \n",
    "    perc_down_org = ((distance_new_org_minus-distance_org)/distance_org)*100\n",
    "    perc_down_new =((distance_new_circuit_minus-distance_circuit)/distance_circuit)*100\n",
    "    \n",
    "    perc_up_origin.append(perc_up_org)\n",
    "    perc_up_circuit.append(perc_up_new)\n",
    "    perc_down_origin.append(perc_down_org)\n",
    "    perc_down_circuit.append(perc_down_new)"
   ]
  },
  {
   "cell_type": "code",
   "execution_count": 17,
   "metadata": {},
   "outputs": [
    {
     "data": {
      "text/plain": [
       "[<matplotlib.lines.Line2D at 0x7fe0ea127a60>]"
      ]
     },
     "execution_count": 17,
     "metadata": {},
     "output_type": "execute_result"
    },
    {
     "data": {
      "image/png": "[encoded data removed]",
      "text/plain": [
       "<Figure size 720x432 with 1 Axes>"
      ]
     },
     "metadata": {
      "needs_background": "light"
     },
     "output_type": "display_data"
    }
   ],
   "source": [
    "percentage_change = [5,10,15,20,25,30,35,40,45,50,55,60,65]\n",
    "not_minus_org = -1*np.array(perc_down_origin)\n",
    "not_minus_circuit = -1*np.array(perc_down_circuit)\n",
    "\n",
    "neg_percentage_change = -1*np.array(percentage_change)\n",
    "\n",
    "\n",
    "plt.plot(neg_percentage_change,not_minus_org,color='red')\n",
    "plt.plot(neg_percentage_change,not_minus_circuit,color='blue')\n",
    "#plt.plot(percentage_change,perc_up_origin,color='red')\n",
    "#plt.plot(percentage_change,perc_up_circuit,color='blue')"
   ]
  },
  {
   "cell_type": "code",
   "execution_count": null,
   "metadata": {},
   "outputs": [],
   "source": []
  }
 ],
 "metadata": {
  "colab": {
   "provenance": []
  },
  "kernelspec": {
   "display_name": "Python 3",
   "language": "python",
   "name": "python3"
  },
  "language_info": {
   "codemirror_mode": {
    "name": "ipython",
    "version": 3
   },
   "file_extension": ".py",
   "mimetype": "text/x-python",
   "name": "python",
   "nbconvert_exporter": "python",
   "pygments_lexer": "ipython3",
   "version": "3.8.8"
  }
 },
 "nbformat": 4,
 "nbformat_minor": 1
}
